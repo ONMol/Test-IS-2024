{
 "cells": [
  {
   "cell_type": "markdown",
   "metadata": {},
   "source": [
    "### <center>Список учебных занятий предмета</center>\n",
    "## <center><strong>«Инструментальное программное обеспечение» - 2024</strong></center>\n",
    "# <center>О.Н. Молчан</center>\n",
    "\n",
    "#### Раздел 1. Основы языка Python\n",
    "\n",
    "[**Лекция. Введение**](material/lectures/lect00.ipynb)\n",
    "\n",
    "[**Лекция 1.1 Типы данных, переменный, арифметически операторы и математические функции**](material/lectures/lect01_01.ipynb)\n",
    "\n",
    "----- [Лабораторная работа №1. Разработка, отладка и испытание линейных программ и математических функций](material/laboratory/lab01_NN.ipynb)\n",
    "\n",
    "[**Лекция 1.2 Оператор ветвления**](material/lectures/lect01_02.ipynb)\n",
    "\n",
    "----- [Лабораторная работа №2. Разработка, отладка и испытание ветвящихся алгоритмов и программ](material/laboratory/lab02_NN.ipynb)\n",
    "\n",
    "[**Лекция 1.3 Циклы**](material/lectures/lect01_03.ipynb)\n",
    "\n",
    "----- [Лабораторная работа №3. Разработка, отладка и испытание программ содержащих циклы с известным и неизвестным числом повторений](material/laboratory/lab03_NN.ipynb)\n",
    "\n",
    "[**Лекция 1.4 Символы и строки**](material/lectures/lect01_04.ipynb)\n",
    "\n",
    "----- [Лабораторная работа №4. Разработка, отладка и испытание алгоритмов\n",
    "и программ обработки строк](material/laboratory/lab04_NN.ipynb)\n",
    "\n",
    "#### Раздел 2. Структурированные типы данных\n",
    "\n",
    "[**Лекция 2.1 Списки, кортежи и словари**](material/lectures/lect02_01.ipynb)\n",
    "\n",
    "----- [Лабораторная работа №5. Разработка, отладка и испытание алгоритмов и программ работы с списками](material/laboratory/lab05_NN.ipynb)\n",
    "\n",
    "----- [Лабораторная работа №6. Разработка, отладка и испытание алгоритмов и программ работы с многомерными списками](material/laboratory/lab06_NN.ipynb)\n",
    "\n",
    "----- [Лабораторная работа №7. Разработка, отладка и испытание алгоритмов и программ с использованием кортежей и словарей](material/laboratory/lab07_NN.ipynb)\n",
    "\n",
    "[**Лекция 2.2 Множества**](material/lectures/lect02_02.ipynb)\n",
    "\n",
    "----- [Лабораторная работа №8. Разработка, отладка и испытание алгоритмов и программ с использованием множеств](material/laboratory/lab08_NN.ipynb)\n",
    "\n",
    "[**Лекция 2.3 Функции, модули и пакеты**](material/lectures/lect02_03.ipynb)\n",
    "\n",
    "----- [Лабораторная работа №9. Разработка, отладка и испытание программ разделенных на модули и функции](material/laboratory/lab09_NN.ipynb)\n",
    "\n",
    "[**Лекция 2.4 Работа с файлами**](material/lectures/lect02_04.ipynb)\n",
    "\n",
    "----- [Лабораторная работа №10. Разработка, отладка и испытание программ взаимодействующих с файлами и каталогами](material/laboratory/lab10_NN.ipynb)"
   ]
  },
  {
   "cell_type": "markdown",
   "metadata": {},
   "source": []
  },
  {
   "cell_type": "code",
   "execution_count": null,
   "metadata": {},
   "outputs": [],
   "source": []
  }
 ],
 "metadata": {
  "kernelspec": {
   "display_name": "Python 3 (ipykernel)",
   "language": "python",
   "name": "python3"
  },
  "language_info": {
   "codemirror_mode": {
    "name": "ipython",
    "version": 3
   },
   "file_extension": ".py",
   "mimetype": "text/x-python",
   "name": "python",
   "nbconvert_exporter": "python",
   "pygments_lexer": "ipython3",
   "version": "3.11.5"
  }
 },
 "nbformat": 4,
 "nbformat_minor": 4
}
