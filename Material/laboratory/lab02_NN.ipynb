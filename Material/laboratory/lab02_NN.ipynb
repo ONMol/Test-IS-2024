{
 "cells": [
  {
   "cell_type": "markdown",
   "metadata": {},
   "source": [
    "## <center>Лабораторная работа №2</center>\n",
    "\n",
    "**Тема:** Разработка, отладка и испытание ветвящихся алгоритмов и программ \n",
    "\n",
    "**Цель:** Получить навыки разработки, отладки и испытаний программ, использующих оператор ветвления для вычисления значения математических выражений и выполнения простейших действий по выбору. \n",
    "\n",
    "**Материал:** [Лекция 1.2 Оператор ветвления](../../material/lectures/lect01_02.ipynb)\n",
    "\n",
    "### <center>Индивидуальные задания</center> "
   ]
  },
  {
   "cell_type": "markdown",
   "metadata": {},
   "source": [
    "#### **Задание 1.**"
   ]
  },
  {
   "cell_type": "markdown",
   "metadata": {},
   "source": [
    "**Составьте блок-схему и напишите программу, которая вычисляет значение математи-ческого выражения при заданных условиях согласно варианта.**"
   ]
  },
  {
   "cell_type": "markdown",
   "metadata": {},
   "source": [
    "**Вариант 1.**<br>\n",
    "<table>\n",
    "    <row>\n",
    "        <td>\n",
    "$$y=\\begin{equation*}\n",
    " \\begin{cases}\n",
    "    \\begin{array}{ccc}\n",
    "    \\displaystyle x^3+2a,&при&x<-2;\n",
    "    \\\\\\displaystyle ln|cos(bx)|,&при&-2\\le x\\le5;\n",
    "    \\\\\\displaystyle x^2e^x,&при&x>5.\n",
    "    \\end{array}\n",
    " \\end{cases}\n",
    "\\end{equation*}$$            \n",
    "        </td>\n",
    "        <td align=\"left\" style=\"padding-left: 45px\">\n",
    "<b>Исходные данные:</b><br>\n",
    "<em>a</em> = 2,1<br>\n",
    "<em>b</em> = 6,7<br>\n",
    "1) <em>x</em> = -2,37<br>\n",
    "2) <em>x</em> = -0,49<br>\n",
    "3) <em>x</em> = 7,51<br>\n",
    "        </td>\n",
    "    </row>\n",
    "</table>"
   ]
  },
  {
   "cell_type": "code",
   "execution_count": null,
   "metadata": {},
   "outputs": [],
   "source": []
  },
  {
   "cell_type": "markdown",
   "metadata": {},
   "source": [
    "**Вариант 2.**<br>\n",
    "<table>\n",
    "    <row>\n",
    "        <td>\n",
    "$$y=\\begin{equation*}\n",
    " \\begin{cases}\n",
    "    \\begin{array}{ccc}\n",
    "    \\displaystyle a+\\frac{1}{2}e^{-x},&при&x \\le 0;\n",
    "    \\\\\\displaystyle sin(b^2x),&при&0<x<4;\n",
    "    \\\\\\displaystyle \\sqrt{x^2+2a},&при&x\\ge4.\n",
    "    \\end{array}\n",
    " \\end{cases}\n",
    "\\end{equation*}$$            \n",
    "        </td>\n",
    "        <td align=\"left\" style=\"padding-left: 45px\">\n",
    "<b>Исходные данные:</b><br>\n",
    "<em>a</em> = 7,1<br>\n",
    "<em>b</em> = 3,2<br>\n",
    "1) <em>x</em> = -3,04<br>\n",
    "2) <em>x</em> = 2,16<br>\n",
    "3) <em>x</em> = 5,37<br>\n",
    "        </td>\n",
    "    </row>\n",
    "</table>"
   ]
  },
  {
   "cell_type": "code",
   "execution_count": null,
   "metadata": {},
   "outputs": [],
   "source": []
  },
  {
   "cell_type": "markdown",
   "metadata": {},
   "source": [
    "**Вариант 3.**<br>\n",
    "<table>\n",
    "    <row>\n",
    "        <td>\n",
    "$$y=\\begin{equation*}\n",
    " \\begin{cases}\n",
    "    \\begin{array}{ccc}\n",
    "    \\displaystyle sin(ln|x|),&при&x\\le1,\n",
    "    \\\\\\displaystyle (4x+b)^2,&при&1<x\\le3,\n",
    "    \\\\\\displaystyle \\frac{1}{x^2+a^2},&при&x>3.\n",
    "    \\end{array}\n",
    " \\end{cases}\n",
    "\\end{equation*}$$            \n",
    "        </td>\n",
    "        <td align=\"left\" style=\"padding-left: 45px\">\n",
    "<b>Исходные данные:</b><br>\n",
    "<em>a</em> = 2,73<br>\n",
    "<em>b</em> = 1,68<br>\n",
    "1) <em>x</em> = -0,37<br>\n",
    "2) <em>x</em> = 1,9<br>\n",
    "3) <em>x</em> = 4,58<br>\n",
    "        </td>\n",
    "    </row>\n",
    "</table>"
   ]
  },
  {
   "cell_type": "code",
   "execution_count": null,
   "metadata": {},
   "outputs": [],
   "source": []
  },
  {
   "cell_type": "markdown",
   "metadata": {},
   "source": [
    "### **Вариант 4.**<br>\n",
    "<table>\n",
    "    <row>\n",
    "        <td>\n",
    "$$y=\\begin{equation*}\n",
    " \\begin{cases}\n",
    "    \\begin{array}{ccc}\n",
    "    \\displaystyle e^x+ln|x|,&при&x<3,\n",
    "    \\\\\\displaystyle x+\\frac{cos(ax)}{x^2+1},&при&3\\le x\\le5,\n",
    "    \\\\\\displaystyle bsin\\frac{a}{x},&при&x>5.\n",
    "    \\end{array}\n",
    " \\end{cases}\n",
    "\\end{equation*}$$            \n",
    "        </td>\n",
    "        <td align=\"left\" style=\"padding-left: 45px\">\n",
    "<b>Исходные данные:</b><br>\n",
    "<em>a</em> = 3,9<br>\n",
    "<em>b</em> = 4,6<br>\n",
    "1) <em>x</em> = 3,57<br>\n",
    "2) <em>x</em> = 7,49<br>\n",
    "3) <em>x</em> = -1,73<br>\n",
    "        </td>\n",
    "    </row>\n",
    "</table>"
   ]
  },
  {
   "cell_type": "code",
   "execution_count": null,
   "metadata": {},
   "outputs": [],
   "source": []
  },
  {
   "cell_type": "markdown",
   "metadata": {},
   "source": [
    "### **Вариант 5.**<br>\n",
    "<table>\n",
    "    <row>\n",
    "        <td>\n",
    "$$y=\\begin{equation*}\n",
    " \\begin{cases}\n",
    "    \\begin{array}{ccc}\n",
    "    \\displaystyle 2cos^2(ax^2-b),&при&x\\le-2,\n",
    "    \\\\\\displaystyle \\sqrt{x^2+e^{ax}},&при&-2<x\\le3,\n",
    "    \\\\\\displaystyle 3x^2+b,&при&x>3.\n",
    "    \\end{array}\n",
    " \\end{cases}\n",
    "\\end{equation*}$$            \n",
    "        </td>\n",
    "        <td align=\"left\" style=\"padding-left: 45px\">\n",
    "<b>Исходные данные:</b><br>\n",
    "<em>a</em> = 1,3<br>\n",
    "<em>b</em> = 2,5<br>\n",
    "1) <em>x</em> = -3,16<br>\n",
    "2) <em>x</em> = 4,16<br>\n",
    "3) <em>x</em> = 1,78<br>\n",
    "        </td>\n",
    "    </row>\n",
    "</table>"
   ]
  },
  {
   "cell_type": "code",
   "execution_count": null,
   "metadata": {},
   "outputs": [],
   "source": []
  },
  {
   "cell_type": "markdown",
   "metadata": {},
   "source": [
    "**Задание 2 (решение)**"
   ]
  },
  {
   "cell_type": "code",
   "execution_count": null,
   "metadata": {},
   "outputs": [],
   "source": []
  },
  {
   "cell_type": "markdown",
   "metadata": {},
   "source": [
    "**Дополнительное задание (решение)**"
   ]
  },
  {
   "cell_type": "code",
   "execution_count": null,
   "metadata": {},
   "outputs": [],
   "source": []
  },
  {
   "cell_type": "markdown",
   "metadata": {},
   "source": [
    "**Дополнительная литература**\n",
    "\n",
    "https://www.opennet.ru/docs/RUS/python/python_b.html\n",
    "\n",
    "https://metanit.com/python/tutorial/1.1.php\n",
    "\n",
    "https://pythonworld.ru/osnovy\n",
    "\n"
   ]
  },
  {
   "cell_type": "code",
   "execution_count": null,
   "metadata": {},
   "outputs": [],
   "source": []
  }
 ],
 "metadata": {
  "kernelspec": {
   "display_name": "Python 3 (ipykernel)",
   "language": "python",
   "name": "python3"
  },
  "language_info": {
   "codemirror_mode": {
    "name": "ipython",
    "version": 3
   },
   "file_extension": ".py",
   "mimetype": "text/x-python",
   "name": "python",
   "nbconvert_exporter": "python",
   "pygments_lexer": "ipython3",
   "version": "3.11.5"
  }
 },
 "nbformat": 4,
 "nbformat_minor": 4
}
