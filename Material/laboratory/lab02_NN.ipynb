{
 "cells": [
  {
   "cell_type": "markdown",
   "metadata": {},
   "source": [
    "## <center>Лабораторная работа №2</center>\n",
    "\n",
    "**Тема:** Разработка, отладка и испытание ветвящихся алгоритмов и программ \n",
    "\n",
    "**Цель:** Получить навыки разработки, отладки и испытаний программ, использующих оператор ветвления для вычисления значения математических выражений и выполнения простейших действий по выбору. \n",
    "\n",
    "**Материал:** [Лекция 1.2 Оператор ветвления](../../material/lectures/lect01_02.ipynb)\n",
    "\n",
    "### <center>Индивидуальные задания</center> "
   ]
  },
  {
   "cell_type": "markdown",
   "metadata": {},
   "source": [
    "#### **Задание 1.**"
   ]
  },
  {
   "cell_type": "markdown",
   "metadata": {},
   "source": [
    "**Составьте блок-схему и напишите программу, которая вычисляет значение математи-ческого выражения при заданных условиях согласно варианта.**"
   ]
  },
  {
   "cell_type": "markdown",
   "metadata": {},
   "source": [
    "**Вариант 1.**<br>\n",
    "<table>\n",
    "    <row>\n",
    "        <td>\n",
    "$$y=\\begin{equation*}\n",
    " \\begin{cases}\n",
    "    \\begin{array}{ccc}\n",
    "    \\displaystyle x^3+2a,&при&x<-2;\n",
    "    \\\\\\displaystyle ln|cos(bx)|,&при&-2\\le x\\le5;\n",
    "    \\\\\\displaystyle x^2e^x,&при&x>5.\n",
    "    \\end{array}\n",
    " \\end{cases}\n",
    "\\end{equation*}$$            \n",
    "        </td>\n",
    "        <td align=\"left\" style=\"padding-left: 45px\">\n",
    "<b>Исходные данные:</b><br>\n",
    "<em>a</em> = 2,1<br>\n",
    "<em>b</em> = 6,7<br>\n",
    "1) <em>x</em> = -2,37<br>\n",
    "2) <em>x</em> = -0,49<br>\n",
    "3) <em>x</em> = 7,51<br>\n",
    "        </td>\n",
    "    </row>\n",
    "</table>"
   ]
  },
  {
   "cell_type": "code",
   "execution_count": null,
   "metadata": {},
   "outputs": [],
   "source": []
  },
  {
   "cell_type": "markdown",
   "metadata": {},
   "source": [
    "**Вариант 2.**<br>\n",
    "<table>\n",
    "    <row>\n",
    "        <td>\n",
    "$$y=\\begin{equation*}\n",
    " \\begin{cases}\n",
    "    \\begin{array}{ccc}\n",
    "    \\displaystyle a+\\frac{1}{2}e^{-x},&при&x \\le 0;\n",
    "    \\\\\\displaystyle sin(b^2x),&при&0<x<4;\n",
    "    \\\\\\displaystyle \\sqrt{x^2+2a},&при&x\\ge4.\n",
    "    \\end{array}\n",
    " \\end{cases}\n",
    "\\end{equation*}$$            \n",
    "        </td>\n",
    "        <td align=\"left\" style=\"padding-left: 45px\">\n",
    "<b>Исходные данные:</b><br>\n",
    "<em>a</em> = 7,1<br>\n",
    "<em>b</em> = 3,2<br>\n",
    "1) <em>x</em> = -3,04<br>\n",
    "2) <em>x</em> = 2,16<br>\n",
    "3) <em>x</em> = 5,37<br>\n",
    "        </td>\n",
    "    </row>\n",
    "</table>"
   ]
  },
  {
   "cell_type": "code",
   "execution_count": null,
   "metadata": {},
   "outputs": [],
   "source": []
  },
  {
   "cell_type": "markdown",
   "metadata": {},
   "source": [
    "**Вариант 3.**<br>\n",
    "<table>\n",
    "    <row>\n",
    "        <td>\n",
    "$$y=\\begin{equation*}\n",
    " \\begin{cases}\n",
    "    \\begin{array}{ccc}\n",
    "    \\displaystyle sin(ln|x|),&при&x\\le1,\n",
    "    \\\\\\displaystyle (4x+b)^2,&при&1<x\\le3,\n",
    "    \\\\\\displaystyle \\frac{1}{x^2+a^2},&при&x>3.\n",
    "    \\end{array}\n",
    " \\end{cases}\n",
    "\\end{equation*}$$            \n",
    "        </td>\n",
    "        <td align=\"left\" style=\"padding-left: 45px\">\n",
    "<b>Исходные данные:</b><br>\n",
    "<em>a</em> = 2,73<br>\n",
    "<em>b</em> = 1,68<br>\n",
    "1) <em>x</em> = -0,37<br>\n",
    "2) <em>x</em> = 1,9<br>\n",
    "3) <em>x</em> = 4,58<br>\n",
    "        </td>\n",
    "    </row>\n",
    "</table>"
   ]
  },
  {
   "cell_type": "code",
   "execution_count": null,
   "metadata": {},
   "outputs": [],
   "source": []
  },
  {
   "cell_type": "markdown",
   "metadata": {},
   "source": [
    "**Вариант 4.**<br>\n",
    "<table>\n",
    "    <row>\n",
    "        <td>\n",
    "$$y=\\begin{equation*}\n",
    " \\begin{cases}\n",
    "    \\begin{array}{ccc}\n",
    "    \\displaystyle e^x+ln|x|,&при&x<3,\n",
    "    \\\\\\displaystyle x+\\frac{cos(ax)}{x^2+1},&при&3\\le x\\le5,\n",
    "    \\\\\\displaystyle b\\,sin\\frac{a}{x},&при&x>5.\n",
    "    \\end{array}\n",
    " \\end{cases}\n",
    "\\end{equation*}$$            \n",
    "        </td>\n",
    "        <td align=\"left\" style=\"padding-left: 45px\">\n",
    "<b>Исходные данные:</b><br>\n",
    "<em>a</em> = 3,9<br>\n",
    "<em>b</em> = 4,6<br>\n",
    "1) <em>x</em> = 3,57<br>\n",
    "2) <em>x</em> = 7,49<br>\n",
    "3) <em>x</em> = -1,73<br>\n",
    "        </td>\n",
    "    </row>\n",
    "</table>"
   ]
  },
  {
   "cell_type": "code",
   "execution_count": null,
   "metadata": {},
   "outputs": [],
   "source": []
  },
  {
   "cell_type": "markdown",
   "metadata": {},
   "source": [
    "**Вариант 5.**<br>\n",
    "<table>\n",
    "    <row>\n",
    "        <td>\n",
    "$$y=\\begin{equation*}\n",
    " \\begin{cases}\n",
    "    \\begin{array}{ccc}\n",
    "    \\displaystyle 2\\,cos^2(ax^2-b),&при&x\\le-2,\n",
    "    \\\\\\displaystyle \\sqrt{x^2+e^{ax}},&при&-2<x\\le3,\n",
    "    \\\\\\displaystyle 3x^2+b,&при&x>3.\n",
    "    \\end{array}\n",
    " \\end{cases}\n",
    "\\end{equation*}$$            \n",
    "        </td>\n",
    "        <td align=\"left\" style=\"padding-left: 45px\">\n",
    "<b>Исходные данные:</b><br>\n",
    "<em>a</em> = 1,3<br>\n",
    "<em>b</em> = 2,5<br>\n",
    "1) <em>x</em> = -3,16<br>\n",
    "2) <em>x</em> = 4,16<br>\n",
    "3) <em>x</em> = 1,78<br>\n",
    "        </td>\n",
    "    </row>\n",
    "</table>"
   ]
  },
  {
   "cell_type": "code",
   "execution_count": null,
   "metadata": {},
   "outputs": [],
   "source": []
  },
  {
   "cell_type": "markdown",
   "metadata": {},
   "source": [
    "**Вариант 6.**<br>\n",
    "<table>\n",
    "    <row>\n",
    "        <td>\n",
    "$$y=\\begin{equation*}\n",
    " \\begin{cases}\n",
    "    \\begin{array}{ccc}\n",
    "    \\displaystyle b-x^2-1,&при&x\\le3,\n",
    "    \\\\\\displaystyle cos^2(ax^2+3),&при&3<x<3,\n",
    "    \\\\\\displaystyle \\sqrt{ln(x+a)},&при&x\\ge8.\n",
    "    \\end{array}\n",
    " \\end{cases}\n",
    "\\end{equation*}$$            \n",
    "        </td>\n",
    "        <td align=\"left\" style=\"padding-left: 45px\">\n",
    "<b>Исходные данные:</b><br>\n",
    "<em>a</em> = 7,1<br>\n",
    "<em>b</em> = 4,2<br>\n",
    "1) <em>x</em> = 1,48<br>\n",
    "2) <em>x</em> = 9,17<br>\n",
    "3) <em>x</em> = 6,23<br>\n",
    "        </td>\n",
    "    </row>\n",
    "</table>"
   ]
  },
  {
   "cell_type": "markdown",
   "metadata": {},
   "source": []
  },
  {
   "cell_type": "markdown",
   "metadata": {},
   "source": [
    "**Вариант 7.**<br>\n",
    "<table>\n",
    "    <row>\n",
    "        <td>\n",
    "$$y=\\begin{equation*}\n",
    " \\begin{cases}\n",
    "    \\begin{array}{ccc}\n",
    "    \\displaystyle a\\,cos^2x-b\\,sinx^2,&при&x\\le1,\n",
    "    \\\\\\displaystyle b\\,lnx+x^3,&при&1<x\\le4,\n",
    "    \\\\\\displaystyle \\sqrt{x^2+ab},&при&x>4.\n",
    "    \\end{array}\n",
    " \\end{cases}\n",
    "\\end{equation*}$$            \n",
    "        </td>\n",
    "        <td align=\"left\" style=\"padding-left: 45px\">\n",
    "<b>Исходные данные:</b><br>\n",
    "<em>a</em> = 2,6<br>\n",
    "<em>b</em> = 5,1<br>\n",
    "1) <em>x</em> = 0,44<br>\n",
    "2) <em>x</em> = 3,67<br>\n",
    "3) <em>x</em> = 5,38<br>\n",
    "        </td>\n",
    "    </row>\n",
    "</table>"
   ]
  },
  {
   "cell_type": "code",
   "execution_count": null,
   "metadata": {},
   "outputs": [],
   "source": []
  },
  {
   "cell_type": "markdown",
   "metadata": {},
   "source": [
    "**Вариант 8.**<br>\n",
    "<table>\n",
    "    <row>\n",
    "        <td>\n",
    "$$y=\\begin{equation*}\n",
    " \\begin{cases}\n",
    "    \\begin{array}{ccc}\n",
    "    \\displaystyle sin^2x+\\frac{b}{x},&при&x\\le-1,\n",
    "    \\\\\\displaystyle (2-x^2)^3,&при&-1<x\\le2,\n",
    "    \\\\\\displaystyle cos^3(ax)^2,&при&x>2.\n",
    "    \\end{array}\n",
    " \\end{cases}\n",
    "\\end{equation*}$$            \n",
    "        </td>\n",
    "        <td align=\"left\" style=\"padding-left: 45px\">\n",
    "<b>Исходные данные:</b><br>\n",
    "<em>a</em> = 2,7<br>\n",
    "<em>b</em> = -3,59<br>\n",
    "1) <em>x</em> = 4,27<br>\n",
    "2) <em>x</em> = -2,63<br>\n",
    "3) <em>x</em> = 1,39<br>\n",
    "        </td>\n",
    "    </row>\n",
    "</table>"
   ]
  },
  {
   "cell_type": "code",
   "execution_count": null,
   "metadata": {},
   "outputs": [],
   "source": []
  },
  {
   "cell_type": "markdown",
   "metadata": {},
   "source": [
    "**Вариант 9.**<br>\n",
    "<table>\n",
    "    <row>\n",
    "        <td>\n",
    "$$y=\\begin{equation*}\n",
    " \\begin{cases}\n",
    "    \\begin{array}{ccc}\n",
    "    \\displaystyle (ax+1)^4,&при&x\\le3,\n",
    "    \\\\\\displaystyle 2x^2+b\\,ln(x),&при&3<x\\le5,\n",
    "    \\\\\\displaystyle a\\,cos(b+x)^2,&при&x>5.\n",
    "    \\end{array}\n",
    " \\end{cases}\n",
    "\\end{equation*}$$            \n",
    "        </td>\n",
    "        <td align=\"left\" style=\"padding-left: 45px\">\n",
    "<b>Исходные данные:</b><br>\n",
    "<em>a</em> = 1,8<br>\n",
    "<em>b</em> = 3,3<br>\n",
    "1) <em>x</em> = 2,46<br>\n",
    "2) <em>x</em> = 4,3<br>\n",
    "3) <em>x</em> = 6,82<br>\n",
    "        </td>\n",
    "    </row>\n",
    "</table>"
   ]
  },
  {
   "cell_type": "code",
   "execution_count": null,
   "metadata": {},
   "outputs": [],
   "source": []
  },
  {
   "cell_type": "markdown",
   "metadata": {},
   "source": [
    "**Вариант 10.**<br>\n",
    "<table>\n",
    "    <row>\n",
    "        <td>\n",
    "$$y=\\begin{equation*}\n",
    " \\begin{cases}\n",
    "    \\begin{array}{ccc}\n",
    "    \\displaystyle 1+\\sqrt{a+|x|},&при&x\\le1,\n",
    "    \\\\\\displaystyle x\\,\\sqrt{1+b\\ln(a^2x)},&при&1<x\\le6,\n",
    "    \\\\\\displaystyle 2+(ax)^2+e^x,&при&x>6.\n",
    "    \\end{array}\n",
    " \\end{cases}\n",
    "\\end{equation*}$$            \n",
    "        </td>\n",
    "        <td align=\"left\" style=\"padding-left: 45px\">\n",
    "<b>Исходные данные:</b><br>\n",
    "<em>a</em> = 6,72<br>\n",
    "<em>b</em> = 4,85<br>\n",
    "1) <em>x</em> = 0,4<br>\n",
    "2) <em>x</em> = 7,5<br>\n",
    "3) <em>x</em> = 4,45<br>\n",
    "        </td>\n",
    "    </row>\n",
    "</table>"
   ]
  },
  {
   "cell_type": "code",
   "execution_count": null,
   "metadata": {},
   "outputs": [],
   "source": []
  },
  {
   "cell_type": "markdown",
   "metadata": {},
   "source": [
    "**Вариант 11.**<br>\n",
    "<table>\n",
    "    <row>\n",
    "        <td>\n",
    "$$y=\\begin{equation*}\n",
    " \\begin{cases}\n",
    "    \\begin{array}{ccc}\n",
    "    \\displaystyle a^2-ax,&при&x\\le-1,\n",
    "    \\\\\\displaystyle \\sqrt[3]{(x+1)^2},&при&-1<x\\le4,\n",
    "    \\\\\\displaystyle \\frac{1}{x^2+2},&при&x>4.\n",
    "    \\end{array}\n",
    " \\end{cases}\n",
    "\\end{equation*}$$            \n",
    "        </td>\n",
    "        <td align=\"left\" style=\"padding-left: 45px\">\n",
    "<b>Исходные данные:</b><br>\n",
    "<em>a</em> = 1,7<br>\n",
    "1) <em>x</em> = -2,61<br>\n",
    "2) <em>x</em> = 1,49<br>\n",
    "3) <em>x</em> = 5,56<br>\n",
    "        </td>\n",
    "    </row>\n",
    "</table>"
   ]
  },
  {
   "cell_type": "code",
   "execution_count": null,
   "metadata": {},
   "outputs": [],
   "source": []
  },
  {
   "cell_type": "markdown",
   "metadata": {},
   "source": [
    "**Вариант 12.**<br>\n",
    "<table>\n",
    "    <row>\n",
    "        <td>\n",
    "$$y=\\begin{equation*}\n",
    " \\begin{cases}\n",
    "    \\begin{array}{ccc}\n",
    "    \\displaystyle cos(bx^2)+0,5x,&при&x\\le-2,\n",
    "    \\\\\\displaystyle \\frac{1}{1+a|x|},&при&-2<x\\le0,\n",
    "    \\\\\\displaystyle \\sqrt{1+e^{ax}},&при&x>0.\n",
    "    \\end{array}\n",
    " \\end{cases}\n",
    "\\end{equation*}$$            \n",
    "        </td>\n",
    "        <td align=\"left\" style=\"padding-left: 45px\">\n",
    "<b>Исходные данные:</b><br>\n",
    "<em>a</em> = 2,1<br>\n",
    "<em>b</em> = 0,7<br>\n",
    "1) <em>x</em> = -1,47<br>\n",
    "2) <em>x</em> = -4,28<br>\n",
    "3) <em>x</em> = 5,07<br>\n",
    "        </td>\n",
    "    </row>\n",
    "</table>"
   ]
  },
  {
   "cell_type": "code",
   "execution_count": null,
   "metadata": {},
   "outputs": [],
   "source": []
  },
  {
   "cell_type": "markdown",
   "metadata": {},
   "source": [
    "**Вариант 13.**<br>\n",
    "<table>\n",
    "    <row>\n",
    "        <td>\n",
    "$$y=\\begin{equation*}\n",
    " \\begin{cases}\n",
    "    \\begin{array}{ccc}\n",
    "    \\displaystyle ln(|x|+\\sqrt{ax^2+1}),&при&x\\le-2,\n",
    "    \\\\\\displaystyle \\sqrt{a^2+x^2},&при&2<x\\le5,\n",
    "    \\\\\\displaystyle arctg\\frac{b}{x^2+1},&при&x>5.\n",
    "    \\end{array}\n",
    " \\end{cases}\n",
    "\\end{equation*}$$            \n",
    "        </td>\n",
    "        <td align=\"left\" style=\"padding-left: 45px\">\n",
    "<b>Исходные данные:</b><br>\n",
    "<em>a</em> = 4,8<br>\n",
    "<em>b</em> = 0,51<br>\n",
    "1) <em>x</em> = -3,24<br>\n",
    "2) <em>x</em> = 7,62<br>\n",
    "3) <em>x</em> = 0,28<br>\n",
    "        </td>\n",
    "    </row>\n",
    "</table>"
   ]
  },
  {
   "cell_type": "code",
   "execution_count": null,
   "metadata": {},
   "outputs": [],
   "source": []
  },
  {
   "cell_type": "markdown",
   "metadata": {},
   "source": [
    "**Вариант 14.**<br>\n",
    "<table>\n",
    "    <row>\n",
    "        <td>\n",
    "$$y=\\begin{equation*}\n",
    " \\begin{cases}\n",
    "    \\begin{array}{ccc}\n",
    "    \\displaystyle e^{sinx},&при&x\\le-1,\n",
    "    \\\\\\displaystyle \\sqrt{1+ax^2},&при&-1<x\\le5,\n",
    "    \\\\\\displaystyle ln^2|bx|,&при&x>5.\n",
    "    \\end{array}\n",
    " \\end{cases}\n",
    "\\end{equation*}$$            \n",
    "        </td>\n",
    "        <td align=\"left\" style=\"padding-left: 45px\">\n",
    "<b>Исходные данные:</b><br>\n",
    "<em>a</em> = 0,19<br>\n",
    "<em>b</em> = 6,1<br>\n",
    "1) <em>x</em> = -4,38<br>\n",
    "2) <em>x</em> = 8,2<br>\n",
    "3) <em>x</em> = 3,74<br>\n",
    "        </td>\n",
    "    </row>\n",
    "</table>"
   ]
  },
  {
   "cell_type": "markdown",
   "metadata": {},
   "source": []
  },
  {
   "cell_type": "markdown",
   "metadata": {},
   "source": [
    "**Вариант 15.**<br>\n",
    "<table>\n",
    "    <row>\n",
    "        <td>\n",
    "$$y=\\begin{equation*}\n",
    " \\begin{cases}\n",
    "    \\begin{array}{ccc}\n",
    "    \\displaystyle ln(b+\\sqrt{|x|}),&при&x \\le 0,\n",
    "    \\\\\\displaystyle cos^2\\sqrt{ax},&при&0<x<1,\n",
    "    \\\\\\displaystyle e^x+1,&при&x \\ge 1.\n",
    "    \\end{array}\n",
    " \\end{cases}\n",
    "\\end{equation*}$$            \n",
    "        </td>\n",
    "        <td align=\"left\" style=\"padding-left: 45px\">\n",
    "<b>Исходные данные:</b><br>\n",
    "<em>a</em> = 5,5<br>\n",
    "<em>b</em> = 3,1<br>\n",
    "1) <em>x</em> = 2,61<br>\n",
    "2) <em>x</em> = 0,53<br>\n",
    "3) <em>x</em> = -4,39<br>\n",
    "        </td>\n",
    "    </row>\n",
    "</table>"
   ]
  },
  {
   "cell_type": "code",
   "execution_count": null,
   "metadata": {},
   "outputs": [],
   "source": []
  },
  {
   "cell_type": "markdown",
   "metadata": {},
   "source": [
    "#### **Задание 2.**"
   ]
  },
  {
   "cell_type": "markdown",
   "metadata": {},
   "source": [
    "**Составьте блок-схему и напишите программу согласно варианта.**"
   ]
  },
  {
   "cell_type": "markdown",
   "metadata": {},
   "source": [
    "**Вариант 1.**<br>\n",
    "Вводится натуральное трехзначное число. Определить, кратна ли трем сумма его цифр."
   ]
  },
  {
   "cell_type": "code",
   "execution_count": null,
   "metadata": {},
   "outputs": [],
   "source": []
  },
  {
   "cell_type": "markdown",
   "metadata": {},
   "source": [
    "**Вариант 2.**<br>\n",
    "Вводится натуральное трехзначное число. Выяснить, верно ли, что оно содержит ровно две одинаковые цифры."
   ]
  },
  {
   "cell_type": "code",
   "execution_count": null,
   "metadata": {},
   "outputs": [],
   "source": []
  },
  {
   "cell_type": "markdown",
   "metadata": {},
   "source": [
    "**Вариант 3.**<br>\n",
    "Вводится натуральное трехзначное число. Определить, равен ли квадрат этого числа сумме кубов его цифр."
   ]
  },
  {
   "cell_type": "code",
   "execution_count": null,
   "metadata": {},
   "outputs": [],
   "source": []
  },
  {
   "cell_type": "markdown",
   "metadata": {},
   "source": [
    "**Вариант 4.**<br>\n",
    "Вводится натуральное трехзначное число. Определить, одинаковы ли его цифры."
   ]
  },
  {
   "cell_type": "code",
   "execution_count": null,
   "metadata": {},
   "outputs": [],
   "source": []
  },
  {
   "cell_type": "markdown",
   "metadata": {},
   "source": [
    "**Вариант 5.**<br>\n",
    "Вводится натуральное трехзначное число. Определить, больше ли числа а сумма его цифр. Число a ввести с клавиатуры."
   ]
  },
  {
   "cell_type": "code",
   "execution_count": null,
   "metadata": {},
   "outputs": [],
   "source": []
  },
  {
   "cell_type": "markdown",
   "metadata": {},
   "source": [
    "**Вариант 6.**<br>\n",
    "Написать программу вычисления стоимости покупки с учетом скидки. Скидка в 3% предоставляется в том случае, если сумма покупки больше 100 руб., в 5% – если сумма больше 500 руб."
   ]
  },
  {
   "cell_type": "code",
   "execution_count": null,
   "metadata": {},
   "outputs": [],
   "source": []
  },
  {
   "cell_type": "markdown",
   "metadata": {},
   "source": [
    "**Вариант 7.**<br>\n",
    "Определить, существует ли треугольник с длинами сторон a, b, c."
   ]
  },
  {
   "cell_type": "code",
   "execution_count": null,
   "metadata": {},
   "outputs": [],
   "source": []
  },
  {
   "cell_type": "markdown",
   "metadata": {},
   "source": [
    "**Вариант 8.**<br>\n",
    "По длинам сторон a, b, c определить, является ли треугольник равносторонним."
   ]
  },
  {
   "cell_type": "code",
   "execution_count": null,
   "metadata": {},
   "outputs": [],
   "source": []
  },
  {
   "cell_type": "markdown",
   "metadata": {},
   "source": [
    "**Вариант 9.**<br>\n",
    "По длинам сторон a, b, c определить, является ли треугольник равносторонним."
   ]
  },
  {
   "cell_type": "code",
   "execution_count": null,
   "metadata": {},
   "outputs": [],
   "source": []
  },
  {
   "cell_type": "markdown",
   "metadata": {},
   "source": [
    "**Вариант 10.**<br>\n",
    "Определить четверть координатной плоскости, которой принадлежит точка. Координаты точки ввести с клавиатуры."
   ]
  },
  {
   "cell_type": "code",
   "execution_count": null,
   "metadata": {},
   "outputs": [],
   "source": []
  },
  {
   "cell_type": "markdown",
   "metadata": {},
   "source": [
    "**Вариант 11.**<br>\n",
    "Вводятся два целых числа. Проверить делится ли первое на второе. Вывести на экран сообщение об этом, а также остаток (если он есть) и частное (в любом случае)."
   ]
  },
  {
   "cell_type": "code",
   "execution_count": null,
   "metadata": {},
   "outputs": [],
   "source": []
  },
  {
   "cell_type": "markdown",
   "metadata": {},
   "source": [
    "**Вариант 12.**<br>\n",
    "Вводятся три разных числа. Найти, какое из них является средним (больше одного, но меньше другого)."
   ]
  },
  {
   "cell_type": "code",
   "execution_count": null,
   "metadata": {},
   "outputs": [],
   "source": []
  },
  {
   "cell_type": "markdown",
   "metadata": {},
   "source": [
    "**Вариант 13.**<br>\n",
    "Вводятся три разных числа. Определить, является ли их последовательность возрастающей."
   ]
  },
  {
   "cell_type": "code",
   "execution_count": null,
   "metadata": {},
   "outputs": [],
   "source": []
  },
  {
   "cell_type": "markdown",
   "metadata": {},
   "source": [
    "**Вариант 14.**<br>\n",
    "Вводятся три разных числа. Определить, является ли их последовательность арифметической прогрессией."
   ]
  },
  {
   "cell_type": "code",
   "execution_count": null,
   "metadata": {},
   "outputs": [],
   "source": []
  },
  {
   "cell_type": "markdown",
   "metadata": {},
   "source": [
    "**Вариант 15.**<br>\n",
    "Вводятся три разных числа. Определить, является ли их последовательность геометрической прогрессией."
   ]
  },
  {
   "cell_type": "code",
   "execution_count": null,
   "metadata": {},
   "outputs": [],
   "source": []
  },
  {
   "attachments": {
    "62c5e6ca-31a1-4291-b772-9f6328228804.png": {
     "image/png": "[encoded data removed]"
    }
   },
   "cell_type": "markdown",
   "metadata": {},
   "source": [
    "#### **Дополнительное задание** \n",
    "*(только после выполнения заданий 1 и 2).*<br>\n",
    "Вводятся два числа (координаты точки). Определить, принадлежит ли эта точка области, заштрихованной на рисунке. Приведите блок-схему этого алгоритма.\n",
    "![изображение.png](attachment:62c5e6ca-31a1-4291-b772-9f6328228804.png)"
   ]
  },
  {
   "cell_type": "code",
   "execution_count": null,
   "metadata": {},
   "outputs": [],
   "source": []
  },
  {
   "cell_type": "markdown",
   "metadata": {},
   "source": [
    "**Дополнительная литература**\n",
    "\n",
    "https://www.opennet.ru/docs/RUS/python/python_b.html\n",
    "\n",
    "https://metanit.com/python/tutorial/1.1.php\n",
    "\n",
    "https://pythonworld.ru/osnovy\n",
    "\n"
   ]
  },
  {
   "cell_type": "code",
   "execution_count": null,
   "metadata": {},
   "outputs": [],
   "source": []
  }
 ],
 "metadata": {
  "kernelspec": {
   "display_name": "Python 3 (ipykernel)",
   "language": "python",
   "name": "python3"
  },
  "language_info": {
   "codemirror_mode": {
    "name": "ipython",
    "version": 3
   },
   "file_extension": ".py",
   "mimetype": "text/x-python",
   "name": "python",
   "nbconvert_exporter": "python",
   "pygments_lexer": "ipython3",
   "version": "3.11.5"
  }
 },
 "nbformat": 4,
 "nbformat_minor": 4
}
