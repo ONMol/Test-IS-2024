{
 "cells": [
  {
   "cell_type": "markdown",
   "metadata": {},
   "source": [
    "## <center>Лабораторная работа №3</center>\n",
    "\n",
    "**Тема:** Разработка, отладка и испытание программ содержащих циклы с известным и неизвестным числом повторений \n",
    "\n",
    "**Цель:** Получить навыки разработки, отладки и испытаний программ, использующих операторы циклов для реализации алгоритмов с известным и неизвестным числом повторений. \n",
    "\n",
    "**Материал:** [Лекция 1.3 Оператор ветвления](../../material/lectures/lect01_03.ipynb)\n",
    "\n",
    "### <center>Индивидуальные задания</center> "
   ]
  },
  {
   "cell_type": "markdown",
   "metadata": {},
   "source": [
    "#### **Задание 1.**<br> Решить задачу используя циклическую конструкцию for."
   ]
  },
  {
   "cell_type": "markdown",
   "metadata": {},
   "source": [
    "**Вариант 1.**<br>\n",
    "Дано вещественное число – цена 1 кг конфет. Вывести стоимость 1, 2, … 10 кг конфет."
   ]
  },
  {
   "cell_type": "code",
   "execution_count": null,
   "metadata": {},
   "outputs": [],
   "source": []
  },
  {
   "cell_type": "markdown",
   "metadata": {},
   "source": [
    "**Вариант 2.**<br>\n",
    "Даны два числа A и B (A<B). Найти сумму всех целых чисел от А до  В включительно."
   ]
  },
  {
   "cell_type": "code",
   "execution_count": null,
   "metadata": {},
   "outputs": [],
   "source": []
  },
  {
   "cell_type": "markdown",
   "metadata": {},
   "source": [
    "**Вариант 3.**<br>\n",
    "Даны два числа A и B (A<B). Найти сумму всех целых чисел от А до  В включительно."
   ]
  },
  {
   "cell_type": "code",
   "execution_count": null,
   "metadata": {},
   "outputs": [],
   "source": []
  },
  {
   "cell_type": "markdown",
   "metadata": {},
   "source": [
    "**Вариант 4.**<br>\n",
    "Найти среднее арифметическое всех целых чисел от a до 200 (значения a и b вводятся с клавиатуры; a≤ 200)."
   ]
  },
  {
   "cell_type": "code",
   "execution_count": null,
   "metadata": {},
   "outputs": [],
   "source": []
  },
  {
   "cell_type": "markdown",
   "metadata": {},
   "source": [
    "**Вариант 5.**<br>\n",
    "Найти сумму всех целых чисел от a до b (значения a и b вводятся с клавиатуры; b ≥a)."
   ]
  },
  {
   "cell_type": "code",
   "execution_count": null,
   "metadata": {},
   "outputs": [],
   "source": []
  },
  {
   "cell_type": "markdown",
   "metadata": {},
   "source": [
    "**Вариант 6.**<br>\n",
    "Найти сумму квадратов всех целых чисел от a до 50 (значение a вводится с клавиатуры; 0 ≤a≤50). "
   ]
  },
  {
   "cell_type": "code",
   "execution_count": null,
   "metadata": {},
   "outputs": [],
   "source": []
  },
  {
   "cell_type": "markdown",
   "metadata": {},
   "source": [
    "**Вариант 7.**<br>\n",
    "Дана непустая последовательность целых чисел с нулем, не расположенным в крайних положениях. Найти: а) сумму всех чисел последовательности до 0; б) количество всех чисел последовательности после 0."
   ]
  },
  {
   "cell_type": "code",
   "execution_count": null,
   "metadata": {},
   "outputs": [],
   "source": []
  },
  {
   "cell_type": "markdown",
   "metadata": {},
   "source": [
    "**Вариант 8.**<br>\n",
    "Дана последовательность из n вещественных чисел. Первое число в последовательности нечетное. Найти сумму всех идущих подряд в начале последовательности нечетных чисел. Условный оператор не использовать."
   ]
  },
  {
   "cell_type": "markdown",
   "metadata": {},
   "source": [
    "**Задание 2 (решение)**"
   ]
  },
  {
   "cell_type": "code",
   "execution_count": null,
   "metadata": {},
   "outputs": [],
   "source": []
  },
  {
   "cell_type": "markdown",
   "metadata": {},
   "source": [
    "**Дополнительная литература**\n",
    "\n",
    "https://pythonworld.ru/osnovy/cikly-for-i-while-operatory-break-i-continue-volshebnoe-slovo-else.html\n",
    "\n",
    "https://python-scripts.com/loops-for-while\n",
    "\n",
    "https://metanit.com/python/tutorial/2.7.php\n",
    "\n",
    "https://younglinux.info/python/for.php\n",
    "\n",
    "http://labs.org.ru/python-2/\n",
    "\n",
    "\n"
   ]
  },
  {
   "cell_type": "code",
   "execution_count": null,
   "metadata": {},
   "outputs": [],
   "source": []
  }
 ],
 "metadata": {
  "kernelspec": {
   "display_name": "Python 3 (ipykernel)",
   "language": "python",
   "name": "python3"
  },
  "language_info": {
   "codemirror_mode": {
    "name": "ipython",
    "version": 3
   },
   "file_extension": ".py",
   "mimetype": "text/x-python",
   "name": "python",
   "nbconvert_exporter": "python",
   "pygments_lexer": "ipython3",
   "version": "3.11.5"
  }
 },
 "nbformat": 4,
 "nbformat_minor": 4
}
