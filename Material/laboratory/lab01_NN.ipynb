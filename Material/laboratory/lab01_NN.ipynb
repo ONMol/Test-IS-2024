{
 "cells": [
  {
   "cell_type": "markdown",
   "metadata": {},
   "source": [
    "## <center>Лабораторная работа №1</center>\n",
    "\n",
    "**Тема:** Разработка, отладка и испытание линейных программ и математических функций \n",
    "\n",
    "**Цель:** Получить навыки разработки, отладки и испытаний линейных программ, использующих вычисление выражений со стандартными математическими функциями. \n",
    "\n",
    "**Материал:** [Лекция 1.1 Типы данных, переменный, арифметически операторы и математические функции](../../material/lectures/lect01_01.ipynb)\n",
    "\n",
    "### <center>**Индивидуальные задания**</center> "
   ]
  },
  {
   "cell_type": "markdown",
   "metadata": {},
   "source": [
    "#### **Задание 1. Напишите программу, которая запрашивала бы у пользователя:**"
   ]
  },
  {
   "cell_type": "markdown",
   "metadata": {},
   "source": [
    "**Вариант 1. Имя, Фамилия, Возраст, Место жительства**\n",
    "- фамилия, имя (\"Ваши фамилия, имя?\")\n",
    "- возраст (\"Сколько Вам лет?\")\n",
    "- место жительства (\"Где Вы живете?\")\n",
    "<br>После этого выводила бы три строки:\n",
    "<br>\"Ваши фамилия, имя\"\n",
    "<br>\"Ваш возраст\"\n",
    "<br>\"Вы живете в\""
   ]
  },
  {
   "cell_type": "code",
   "execution_count": null,
   "metadata": {},
   "outputs": [],
   "source": []
  },
  {
   "cell_type": "markdown",
   "metadata": {},
   "source": [
    "**Вариант 2. Имя, , Дата рождения, Образование**\n",
    "- имя (\"Ваше, имя?\")\n",
    "- дата рождения (\"Ваша дата рождения?\")\n",
    "- образование (\"Где Вы учитесь?\")\n",
    "<br>После этого выводила бы три строки:\n",
    "<br>\"Ваше имя\"\n",
    "<br>\"Дата рождения\"\n",
    "<br>\"Вы учитесь в \""
   ]
  },
  {
   "cell_type": "code",
   "execution_count": null,
   "metadata": {},
   "outputs": [],
   "source": []
  },
  {
   "cell_type": "markdown",
   "metadata": {},
   "source": [
    "**Вариант 3. Фамилия, Место рождения, Место жительства**\n",
    "- Фамилия(\"Ваша фамилия?\")\n",
    "- место рождения (\"Где Вы родились?\")\n",
    "- место жительства (\"Где Вы живете?\")\n",
    "<br>После этого выводила бы две строки:\n",
    "<br>\"Ваша фамилия\"\n",
    "<br>\"Вы родились в\"\n",
    "<br>\"Вы живете в\""
   ]
  },
  {
   "cell_type": "code",
   "execution_count": null,
   "metadata": {},
   "outputs": [],
   "source": []
  },
  {
   "cell_type": "markdown",
   "metadata": {},
   "source": [
    "**Вариант 4. Фамилия, Место рождения, любимая музыка**\n",
    "- Фамилия, (\"Ваша фамилия?\")\n",
    "- место рождения (\"Где Вы родились?\")\n",
    "- музыка(\"Какая музыка нравится? \")\n",
    "<br>После этого выводила бы три строки:\n",
    "<br>\"Ваши имя, фамилия\"\n",
    "<br>\"Вы родились в\"\n",
    "<br>\"Ваша любимая музыка \""
   ]
  },
  {
   "cell_type": "code",
   "execution_count": null,
   "metadata": {},
   "outputs": [],
   "source": []
  },
  {
   "cell_type": "markdown",
   "metadata": {},
   "source": [
    "**Вариант 5. Имя, Фамилия, Отчество, Возраст, Место жительства**\n",
    "- ФИО (например, \"Ваши фамилия, имя, отчество?\")\n",
    "- возраст (\"Сколько Вам лет?\")\n",
    "- место жительства (\"Где Вы живете?\")\n",
    "<br>После этого выводила бы три строки:\n",
    "<br>\"Ваши имя, фамилия, отчество\"\n",
    "<br>\"Ваш возраст\"\n",
    "<br>\"Вы живете в\""
   ]
  },
  {
   "cell_type": "code",
   "execution_count": null,
   "metadata": {},
   "outputs": [],
   "source": []
  },
  {
   "cell_type": "markdown",
   "metadata": {},
   "source": [
    "**Вариант 6. Имя, Любимый предмет в колледже, Группа**\n",
    "- имя ( \"Ваше имя?\")\n",
    "- любимый предмет (\"Какой Ваш любимый предмет в школе?\")\n",
    "- номер класса (\"В каком классе Вы учитесь?\")\n",
    "<br>После этого выводила бы три строки:\n",
    "<br>\"Ваше имя\"\n",
    "<br>\"Ваш любимый предмет в школе\"\n",
    "<br>\"Вы учитесь в классе номер\""
   ]
  },
  {
   "cell_type": "code",
   "execution_count": null,
   "metadata": {},
   "outputs": [],
   "source": []
  },
  {
   "cell_type": "markdown",
   "metadata": {},
   "source": [
    "**Вариант 8. Имя, Фамилия, Отчество, Хобби**\n",
    "- ФИО (например, \"Ваши фамилия, имя, отчество?\")\n",
    "- хобби (\"Чем Вы увлекаетесь?\")\n",
    "<br>После этого выводила бы две строки:\n",
    "<br>\"Ваши имя, фамилия, отчество\"\n",
    "<br>\"Ваше хобби\""
   ]
  },
  {
   "cell_type": "code",
   "execution_count": null,
   "metadata": {},
   "outputs": [],
   "source": []
  },
  {
   "cell_type": "markdown",
   "metadata": {},
   "source": [
    "**Вариант 9. Имя, Фамилия, любимый спорт**\n",
    "- Фамилия, имя (\"Ваши фамилия, имя?\")\n",
    "- образование (\"В каком колледже Вы учитесь?\")\n",
    "- любимый спорт (\"ФИО Вашего руководителя по физической культуре?\")\n",
    "<br>После этого выводила бы три строки:\n",
    "<br>\"Ваши имя, фамилия\"\n",
    "<br>\"Вы учитесь в колледже: \"\n",
    "<br>\"ФИО Вашего руководителя по физической культуре\""
   ]
  },
  {
   "cell_type": "code",
   "execution_count": null,
   "metadata": {},
   "outputs": [],
   "source": []
  },
  {
   "cell_type": "markdown",
   "metadata": {},
   "source": [
    "**Вариант 10. Имя, Фамилия, Любимый предмет в колледже, ФИО куратора**\n",
    "- Фамилия, имя (\"Ваши фамилия, имя?\")\n",
    "- любимый предмет в школе (\"Какой Ваш любимый предмет в колледже?\")\n",
    "- ФИО куратора (\"ФИО Вашего куратора?\")\n",
    "После этого выводила бы три строки:\n",
    "\"Ваши имя, фамилия\"\n",
    "\"Ваш любимый предмет в колледже\"\n",
    "\"ФИО Вашего куратора\""
   ]
  },
  {
   "cell_type": "code",
   "execution_count": null,
   "metadata": {},
   "outputs": [],
   "source": []
  },
  {
   "cell_type": "markdown",
   "metadata": {},
   "source": [
    "**Вариант 11. Имя, Фамилия, Возраст, Дата рождения**\n",
    "- Фамилия, имя (\"Ваши фамилия, имя?\")\n",
    "- возраст (\"Сколько Вам лет?\")\n",
    "- дата рождения (\"Когда Вы родились?\")\n",
    "<br>После этого выводила бы три строки:\n",
    "<br>\"Ваши имя, фамилия\"\n",
    "<br>\"Ваш возраст\"\n",
    "<br>\"Дата Вашего рождения\""
   ]
  },
  {
   "cell_type": "code",
   "execution_count": null,
   "metadata": {},
   "outputs": [],
   "source": []
  },
  {
   "cell_type": "markdown",
   "metadata": {},
   "source": [
    "**Вариант 12. Имя, Фамилия, Место жительства, Месторождения**\n",
    "- Фамилия, имя (\"Ваши фамилия, имя?\")\n",
    "- место рождения (\"Где Вы родились?\")\n",
    "- место жительства (\"Где Вы живете?\")\n",
    "<br>После этого выводила бы три строки:\n",
    "<br>\"Ваши имя, фамилия\"\n",
    "<br>\"Вы родились в\"\n",
    "<br>\"Вы живете в\""
   ]
  },
  {
   "cell_type": "code",
   "execution_count": null,
   "metadata": {},
   "outputs": [],
   "source": []
  },
  {
   "cell_type": "markdown",
   "metadata": {},
   "source": [
    "**Вариант 13. Имя, Фамилия, Возраст, Номер телефона**\n",
    "- Фамилия, имя  (\"Ваши фамилия, имя?\")\n",
    "- возраст (\"Сколько Вам лет?\")\n",
    "- номер телефона (\"Номер Вашего телефона?\")\n",
    "<br>После этого выводила бы три строки:\n",
    "<br>\"Ваши имя, фамилия\"\n",
    "<br>\"Ваш возраст\"\n",
    "<br>\"Ваш номер телефона\""
   ]
  },
  {
   "cell_type": "code",
   "execution_count": null,
   "metadata": {},
   "outputs": [],
   "source": []
  },
  {
   "cell_type": "markdown",
   "metadata": {},
   "source": [
    "**Вариант 14. Имя, Фамилия, Область, Город**\n",
    "- Фамилия, имя (\"Ваши фамилия, имя?\")\n",
    "- страна (\"В какой области Вы живете?\")\n",
    "- город (\"В каком городе Вы живете?\")\n",
    "<br>После этого выводила бы три строки:\n",
    "<br>\"Ваши имя, фамилия\"\n",
    "<br>\"Вы живете в области\"\n",
    "<br>\"Вы живете в городе\""
   ]
  },
  {
   "cell_type": "code",
   "execution_count": null,
   "metadata": {},
   "outputs": [],
   "source": []
  },
  {
   "cell_type": "markdown",
   "metadata": {},
   "source": [
    "**Вариант 15. Имя, Фамилия, Школа, ФИО Вашего классного руководителя**\n",
    "- Фамилия, имя (\"Ваши фамилия, имя?\")\n",
    "- Школа (\"Школа, которую вы закончили\")\n",
    "- ФИО Вашего классного руководителя (\"ФИО Вашего классного руководителя?\")\n",
    "<br>После этого выводила бы три строки:\n",
    "<br>\"Ваши имя, фамилия\"\n",
    "<br>\"Ваша школа\"\n",
    "<br>\"ФИО Вашего классного руководителя\""
   ]
  },
  {
   "cell_type": "code",
   "execution_count": null,
   "metadata": {},
   "outputs": [],
   "source": []
  },
  {
   "cell_type": "markdown",
   "metadata": {},
   "source": [
    "<hr>"
   ]
  },
  {
   "cell_type": "markdown",
   "metadata": {},
   "source": [
    "#### **Задание 2. Задаются 3 числа в 10-ой системе счисления. Вывести значение этих чисел в 2-ой, 8-ричной, 16-ричной системах счисления.**"
   ]
  },
  {
   "cell_type": "markdown",
   "metadata": {},
   "source": [
    "**Вариант 1.**<br>\n",
    "45$\\to?_2$<br>\n",
    "124$\\to?_8$<br>\n",
    "781$\\to?_{16}$<br>"
   ]
  },
  {
   "cell_type": "code",
   "execution_count": null,
   "metadata": {},
   "outputs": [],
   "source": []
  },
  {
   "cell_type": "markdown",
   "metadata": {},
   "source": [
    "**Вариант 2.**<br>\n",
    "56$\\to?_2$<br>\n",
    "189$\\to?_8$<br>\n",
    "862$\\to?_{16}$<br>"
   ]
  },
  {
   "cell_type": "code",
   "execution_count": null,
   "metadata": {},
   "outputs": [],
   "source": []
  },
  {
   "cell_type": "markdown",
   "metadata": {},
   "source": [
    "**Вариант 3.**<br>\n",
    "79$\\to?_2$<br>\n",
    "385$\\to?_8$<br>\n",
    "611$\\to?_{16}$<br>"
   ]
  },
  {
   "cell_type": "code",
   "execution_count": null,
   "metadata": {},
   "outputs": [],
   "source": []
  },
  {
   "cell_type": "markdown",
   "metadata": {},
   "source": [
    "**Вариант 4.**<br>\n",
    "87$\\to?_2$<br>\n",
    "288$\\to?_8$<br>\n",
    "1137$\\to?_{16}$<br>"
   ]
  },
  {
   "cell_type": "code",
   "execution_count": null,
   "metadata": {},
   "outputs": [],
   "source": []
  },
  {
   "cell_type": "markdown",
   "metadata": {},
   "source": [
    "**Вариант 5.**<br>\n",
    "56$\\to?_2$<br>\n",
    "189$\\to?_8$<br>\n",
    "862$\\to?_{16}$<br>"
   ]
  },
  {
   "cell_type": "code",
   "execution_count": null,
   "metadata": {},
   "outputs": [],
   "source": []
  },
  {
   "cell_type": "markdown",
   "metadata": {},
   "source": [
    "**Вариант 6.**<br>\n",
    "93$\\to?_2$<br>\n",
    "374$\\to?_8$<br>\n",
    "942$\\to?_{16}$<br>"
   ]
  },
  {
   "cell_type": "code",
   "execution_count": null,
   "metadata": {},
   "outputs": [],
   "source": []
  },
  {
   "cell_type": "markdown",
   "metadata": {},
   "source": [
    "**Вариант 7.**<br>\n",
    "83$\\to?_2$<br>\n",
    "445$\\to?_8$<br>\n",
    "952$\\to?_{16}$<br>"
   ]
  },
  {
   "cell_type": "code",
   "execution_count": null,
   "metadata": {},
   "outputs": [],
   "source": []
  },
  {
   "cell_type": "markdown",
   "metadata": {},
   "source": [
    "**Вариант 8.**<br>\n",
    "62$\\to?_2$<br>\n",
    "175$\\to?_8$<br>\n",
    "1403$\\to?_{16}$<br>"
   ]
  },
  {
   "cell_type": "code",
   "execution_count": null,
   "metadata": {},
   "outputs": [],
   "source": []
  },
  {
   "cell_type": "markdown",
   "metadata": {},
   "source": [
    "**Вариант 9.**<br>\n",
    "88$\\to?_2$<br>\n",
    "335$\\to?_8$<br>\n",
    "987$\\to?_{16}$<br>"
   ]
  },
  {
   "cell_type": "code",
   "execution_count": null,
   "metadata": {},
   "outputs": [],
   "source": []
  },
  {
   "cell_type": "markdown",
   "metadata": {},
   "source": [
    "**Вариант 10.**<br>\n",
    "53$\\to?_2$<br>\n",
    "682$\\to?_8$<br>\n",
    "1225$\\to?_{16}$<br>"
   ]
  },
  {
   "cell_type": "code",
   "execution_count": null,
   "metadata": {},
   "outputs": [],
   "source": []
  },
  {
   "cell_type": "markdown",
   "metadata": {},
   "source": [
    "**Вариант 11.**<br>\n",
    "94$\\to?_2$<br>\n",
    "259$\\to?_8$<br>\n",
    "927$\\to?_{16}$<br>"
   ]
  },
  {
   "cell_type": "code",
   "execution_count": null,
   "metadata": {},
   "outputs": [],
   "source": []
  },
  {
   "cell_type": "markdown",
   "metadata": {},
   "source": [
    "**Вариант 12.**<br>\n",
    "99$\\to?_2$<br>\n",
    "343$\\to?_8$<br>\n",
    "1400$\\to?_{16}$<br>"
   ]
  },
  {
   "cell_type": "code",
   "execution_count": null,
   "metadata": {},
   "outputs": [],
   "source": []
  },
  {
   "cell_type": "markdown",
   "metadata": {},
   "source": [
    "**Вариант 13.**<br>\n",
    "56$\\to?_2$<br>\n",
    "189$\\to?_8$<br>\n",
    "862$\\to?_{16}$<br>"
   ]
  },
  {
   "cell_type": "code",
   "execution_count": null,
   "metadata": {},
   "outputs": [],
   "source": []
  },
  {
   "cell_type": "markdown",
   "metadata": {},
   "source": [
    "**Вариант 14.**<br>\n",
    "101$\\to?_2$<br>\n",
    "567$\\to?_8$<br>\n",
    "1005$\\to?_{16}$<br>"
   ]
  },
  {
   "cell_type": "code",
   "execution_count": null,
   "metadata": {},
   "outputs": [],
   "source": []
  },
  {
   "cell_type": "markdown",
   "metadata": {},
   "source": [
    "**Вариант 15.**<br>\n",
    "65$\\to?_2$<br>\n",
    "382$\\to?_8$<br>\n",
    "965$\\to?_{16}$<br>"
   ]
  },
  {
   "cell_type": "code",
   "execution_count": null,
   "metadata": {},
   "outputs": [],
   "source": []
  },
  {
   "cell_type": "markdown",
   "metadata": {},
   "source": [
    "<hr>"
   ]
  },
  {
   "cell_type": "markdown",
   "metadata": {},
   "source": [
    "#### **Задание 3. Введите с клавиатуры значения указанных переменных, вычислите значение выражения и отобразите на экране результат**"
   ]
  },
  {
   "cell_type": "markdown",
   "metadata": {},
   "source": [
    "**Вариант 1.**\n",
    "$$Z=\\cfrac{2sin\\left(\\cfrac{d}{b}\\right)}{b+d^{3-b}}+\\cfrac{1}{2e^{b+d}}+cos^2(b)$$"
   ]
  },
  {
   "cell_type": "code",
   "execution_count": null,
   "metadata": {},
   "outputs": [],
   "source": []
  },
  {
   "cell_type": "markdown",
   "metadata": {},
   "source": [
    "**Вариант 2.**\n",
    "$$Z=\\cfrac{ln\\left(a+\\cfrac{b^2}{5}\\right)-\\sqrt{4.12-\\cfrac{1}{b^{-3}}}}{sin(a)-cos^2(b)} $$"
   ]
  },
  {
   "cell_type": "code",
   "execution_count": null,
   "metadata": {},
   "outputs": [],
   "source": []
  },
  {
   "cell_type": "markdown",
   "metadata": {},
   "source": [
    "**Вариант 3.**\n",
    "$$Z=\\cfrac{sin(a)+\\cfrac{cos^2(b-a)}{1+e^{a-\\sqrt{\\cfrac{b}{4}}}}}{b-a^2}$$"
   ]
  },
  {
   "cell_type": "code",
   "execution_count": null,
   "metadata": {},
   "outputs": [],
   "source": []
  },
  {
   "cell_type": "markdown",
   "metadata": {},
   "source": [
    "**Вариант 4.**\n",
    "$$Z=\\cfrac{ln^2\\left(\\cfrac{m}{n}\\right)}{sin(n^3-m^3)+\\cfrac{1}{4.55+cos(n^3-m^3)}}$$"
   ]
  },
  {
   "cell_type": "code",
   "execution_count": null,
   "metadata": {},
   "outputs": [],
   "source": []
  },
  {
   "cell_type": "markdown",
   "metadata": {},
   "source": [
    "**Вариант 5.**\n",
    "$$Z=x^{-1}+\\cfrac{y^2}{sin^2(x)-cos^2\\left(\\cfrac{x+1.15}{y-\\sqrt{1.15}}\\right)}$$"
   ]
  },
  {
   "cell_type": "code",
   "execution_count": null,
   "metadata": {},
   "outputs": [],
   "source": []
  },
  {
   "cell_type": "markdown",
   "metadata": {},
   "source": [
    "**Вариант 6.**\n",
    "$$Z=\\cfrac{a+ln(b)}{sin^3\\left(a-\\cfrac{1}{a^b}\\right)}-\\cfrac{cos^3\\left(a-\\cfrac{1}{5.15b} \\right)}{4}$$"
   ]
  },
  {
   "cell_type": "markdown",
   "metadata": {},
   "source": [
    "**Задание 4 (решение)**"
   ]
  },
  {
   "cell_type": "code",
   "execution_count": null,
   "metadata": {},
   "outputs": [],
   "source": []
  },
  {
   "cell_type": "markdown",
   "metadata": {},
   "source": [
    "**Дополнительная литература**\n",
    "\n",
    "https://www.opennet.ru/docs/RUS/python/python_b.html\n",
    "\n",
    "https://metanit.com/python/tutorial/1.1.php\n",
    "\n",
    "https://pythonworld.ru/osnovy\n"
   ]
  },
  {
   "cell_type": "markdown",
   "metadata": {},
   "source": [
    "#### ванов"
   ]
  },
  {
   "cell_type": "markdown",
   "metadata": {},
   "source": [
    "#### "
   ]
  },
  {
   "cell_type": "markdown",
   "metadata": {},
   "source": [
    "#### "
   ]
  }
 ],
 "metadata": {
  "kernelspec": {
   "display_name": "Python 3 (ipykernel)",
   "language": "python",
   "name": "python3"
  },
  "language_info": {
   "codemirror_mode": {
    "name": "ipython",
    "version": 3
   },
   "file_extension": ".py",
   "mimetype": "text/x-python",
   "name": "python",
   "nbconvert_exporter": "python",
   "pygments_lexer": "ipython3",
   "version": "3.11.5"
  }
 },
 "nbformat": 4,
 "nbformat_minor": 4
}
